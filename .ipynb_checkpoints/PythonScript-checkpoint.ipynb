{
 "cells": [
  {
   "cell_type": "markdown",
   "metadata": {},
   "source": [
    "# Pandas for Excel automation script"
   ]
  },
  {
   "cell_type": "markdown",
   "metadata": {},
   "source": [
    "## Project Description:\n",
    "    This Script will be in three sections as requested\n",
    "\n",
    "### Section 1\n",
    "#### Required files \n",
    "- Marketing Input.xlsx\n",
    "- Finance Input.xlsx\n",
    "#### Specification:\n",
    "- 1 Load data from Marketing Input and Finance Input xlsx, identify sheet in the load command\n",
    "- Append data from both files into a new dataframe\n",
    "- Unpivot the month columns from Jan 21 - Dec 22, so that months will show in column Month, and values in column \"Value\"\n",
    "- The new data set should have columns: Department, Segment, Brand, Market, GLName, Notes, Month, Value (remove 1 2 3 4 5 6 7)\n",
    "- save new dataframe into a new xlsx file called Summary.xlsx\n",
    "\n",
    "\n",
    "### Section 2\n",
    "\n",
    "### Section 3\n",
    "\n"
   ]
  },
  {
   "cell_type": "code",
   "execution_count": 8,
   "metadata": {},
   "outputs": [],
   "source": [
    "# Import all required packages \n",
    "import pandas as pd"
   ]
  },
  {
   "cell_type": "markdown",
   "metadata": {},
   "source": [
    "# Section 1\n",
    "----------------------------------------------------------"
   ]
  },
  {
   "cell_type": "code",
   "execution_count": 14,
   "metadata": {},
   "outputs": [],
   "source": [
    "# Section 1 python script\n",
    "\n",
    "\"\"\"\"\"\"\n",
    "def load_data():\n",
    "    \"\"\"\n",
    "    This functions loads the raw excel data for Marketing and Finance\n",
    "    \n",
    "    arg: no argument required\n",
    "    return: returns the loaded Marketing and Finance input data\n",
    "    \n",
    "    \"\"\"\n",
    "    user_file_confirmation = input(\"\\t Kindly confirm if the Marketing Input and Finance Input files are named \\\"Marketing Input.xlsx and Finance Input.xlsx\\\" enter yes or no : \\n \")\n",
    "\n",
    "    if user_file_confirmation.lower() == 'yes':\n",
    "        df_marketing = pd.read_excel(\"Marketing Input.xlsx\")\n",
    "        df_finance = pd.read_excel(\"Finance Input.xlsx\")\n",
    "    elif user_file_confirmation.lower() == 'no':\n",
    "        marketing_file = input(\"\\t enter the file name with the extension : \\n\")\n",
    "        finance_file = input(\"\\t enter the file name with the extension : \\n\")\n",
    "        try:\n",
    "            df_marketing = pd.read_excel(marketing_file)\n",
    "            df_finance = pd.read_excel(finance_file)\n",
    "        except: \n",
    "            print(\"Invalid file provided\")\n",
    "    \n",
    "    return df_marketing, df_finance\n",
    "    "
   ]
  },
  {
   "cell_type": "code",
   "execution_count": null,
   "metadata": {},
   "outputs": [],
   "source": []
  }
 ],
 "metadata": {
  "kernelspec": {
   "display_name": "Python 3",
   "language": "python",
   "name": "python3"
  },
  "language_info": {
   "codemirror_mode": {
    "name": "ipython",
    "version": 3
   },
   "file_extension": ".py",
   "mimetype": "text/x-python",
   "name": "python",
   "nbconvert_exporter": "python",
   "pygments_lexer": "ipython3",
   "version": "3.7.6"
  }
 },
 "nbformat": 4,
 "nbformat_minor": 4
}
