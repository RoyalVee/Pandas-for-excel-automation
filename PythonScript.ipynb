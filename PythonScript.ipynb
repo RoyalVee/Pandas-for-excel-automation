{
 "cells": [
  {
   "cell_type": "markdown",
   "metadata": {},
   "source": [
    "# Pandas for Excel automation script"
   ]
  },
  {
   "cell_type": "markdown",
   "metadata": {},
   "source": [
    "## Project Description:\n",
    "    This Script will be in two sections as requested\n",
    "\n",
    "### Section 1\n",
    "\n",
    "#### Required files \n",
    "- Marketing Input.xlsx\n",
    "- Finance Input.xlsx\n",
    "\n",
    "#### Specification:\n",
    "- Load data from Marketing Input and Finance Input xlsx, identify sheet in the load command\n",
    "- Append data from both files into a new dataframe\n",
    "- Unpivot the month columns from Jan 21 - Dec 22, so that months will show in column Month, and values in column \"Value\"\n",
    "- The new data set should have columns: Department, Segment, Brand, Market, GLName, Notes, Month, Value (remove 1 2 3 4 5 6 7)\n",
    "- save new dataframe into a new xlsx file called Summary.xlsx\n",
    "\n",
    "\n",
    "### Section 2\n",
    "\n"
   ]
  },
  {
   "cell_type": "code",
   "execution_count": 15,
   "metadata": {},
   "outputs": [],
   "source": [
    "# Import all required packages \n",
    "import pandas as pd"
   ]
  },
  {
   "cell_type": "markdown",
   "metadata": {},
   "source": [
    "# Section 1\n",
    "----------------------------------------------------------"
   ]
  },
  {
   "cell_type": "code",
   "execution_count": 32,
   "metadata": {},
   "outputs": [],
   "source": [
    "# Section 1 python script\n",
    "\n",
    "def load_data():\n",
    "    \"\"\"\n",
    "    This functions loads the raw excel data for Marketing and Finance\n",
    "    \n",
    "    arg: no argument required\n",
    "    return: returns the loaded Marketing and Finance input data\n",
    "    \n",
    "    \"\"\"\n",
    "    \n",
    "    # Request user to confirm if specified name is used for the raw excel data\n",
    "    user_file_confirmation = input(\"\\t Kindly confirm if the Marketing Input and Finance Input files are named \\\"Marketing Input.xlsx and Finance Input.xlsx\\\" enter yes or no : \\n \")\n",
    "\n",
    "    \n",
    "    # check use confirmation\n",
    "    if user_file_confirmation.lower() == 'yes':\n",
    "        #load data using the default name if user used same naming for the raw data\n",
    "        df_marketing = pd.read_excel(\"Marketing Input.xlsx\", None)\n",
    "        df_finance = pd.read_excel(\"Finance Input.xlsx\", None)\n",
    "        \n",
    "        # get the various sheet on each excel file\n",
    "        marketing_file_sheets = df_marketing.keys()\n",
    "        finance_file_sheets = df_finance.keys()\n",
    "\n",
    "        # Append data from both files into a new dataframe\n",
    "        data_merge = pd.DataFrame()\n",
    "\n",
    "        for sheet in marketing_file_sheets:\n",
    "            data_merge = data_merge.append(pd.read_excel(\"Marketing Input.xlsx\", sheet))\n",
    "\n",
    "        for sheet in finance_file_sheets:\n",
    "            data_merge = data_merge.append(pd.read_excel(\"Finance Input.xlsx\", sheet))\n",
    "        \n",
    "    elif user_file_confirmation.lower() == 'no':\n",
    "        # request user to provide the name used for the raw files\n",
    "        marketing_file = input(\"\\t enter the file name with the extension : \\n\")\n",
    "        finance_file = input(\"\\t enter the file name with the extension : \\n\")\n",
    "        \n",
    "        try:\n",
    "            # try loading data from user specified files\n",
    "            \n",
    "            df_marketing = pd.read_excel(marketing_file)\n",
    "            df_finance = pd.read_excel(finance_file)\n",
    "            \n",
    "            # get the various sheet on each excel file\n",
    "            marketing_file_sheets = df_marketing.keys()\n",
    "            finance_file_sheets = df_finance.keys()\n",
    "\n",
    "            # Append data from both files into a new dataframe\n",
    "            data_merge = pd.DataFrame()\n",
    "\n",
    "            for sheet in marketing_file_sheets:\n",
    "                data_merge = data_merge.append(pd.read_excel(marketing_file, sheet))\n",
    "\n",
    "            for sheet in finance_file_sheets:\n",
    "                data_merge = data_merge.append(pd.read_excel(finance_file, sheet))\n",
    "        except: \n",
    "            print(\"Invalid file provided\")\n",
    "         \n",
    "    return data_merge\n",
    "    "
   ]
  },
  {
   "cell_type": "code",
   "execution_count": null,
   "metadata": {},
   "outputs": [],
   "source": [
    "print(load_data())\n"
   ]
  },
  {
   "cell_type": "code",
   "execution_count": null,
   "metadata": {},
   "outputs": [],
   "source": []
  }
 ],
 "metadata": {
  "kernelspec": {
   "display_name": "Python 3",
   "language": "python",
   "name": "python3"
  },
  "language_info": {
   "codemirror_mode": {
    "name": "ipython",
    "version": 3
   },
   "file_extension": ".py",
   "mimetype": "text/x-python",
   "name": "python",
   "nbconvert_exporter": "python",
   "pygments_lexer": "ipython3",
   "version": "3.7.6"
  }
 },
 "nbformat": 4,
 "nbformat_minor": 4
}
